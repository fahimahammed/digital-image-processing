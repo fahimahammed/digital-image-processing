{
 "cells": [
  {
   "cell_type": "code",
   "execution_count": 4,
   "metadata": {},
   "outputs": [],
   "source": [
    "import numpy as np\n",
    "import matplotlib.pyplot as plt "
   ]
  },
  {
   "cell_type": "code",
   "execution_count": 5,
   "metadata": {},
   "outputs": [
    {
     "name": "stdout",
     "output_type": "stream",
     "text": [
      "[[40 21 11]\n",
      " [43 10 33]\n",
      " [43 37  0]]\n"
     ]
    },
    {
     "data": {
      "image/png": "[encoded data removed]",
      "text/plain": [
       "<Figure size 640x480 with 1 Axes>"
      ]
     },
     "metadata": {},
     "output_type": "display_data"
    }
   ],
   "source": [
    "# Dimensions of the image\n",
    "image_height = 3\n",
    "image_width = 3\n",
    "\n",
    "# Generate a random grayscale image\n",
    "random_image = np.random.randint(0, 50, size=(image_height, image_width), dtype=np.uint8)\n",
    "print(random_image)\n",
    "\n",
    "# Display the random image using matplotlib\n",
    "plt.imshow(random_image, cmap='gray', vmin=0, vmax=255)\n",
    "plt.title('Random Grayscale Image')\n",
    "plt.show()"
   ]
  },
  {
   "cell_type": "code",
   "execution_count": 6,
   "metadata": {},
   "outputs": [
    {
     "name": "stdout",
     "output_type": "stream",
     "text": [
      "num of pixels: 9\n"
     ]
    }
   ],
   "source": [
    "numOfPixels = random_image.size\n",
    "print(f\"num of pixels: {numOfPixels}\")"
   ]
  },
  {
   "cell_type": "code",
   "execution_count": 7,
   "metadata": {},
   "outputs": [
    {
     "name": "stdout",
     "output_type": "stream",
     "text": [
      "noise amount: 4\n"
     ]
    }
   ],
   "source": [
    "noiseAmount = int(numOfPixels * 0.5)\n",
    "print(f\"noise amount: {noiseAmount}\")"
   ]
  },
  {
   "cell_type": "code",
   "execution_count": 8,
   "metadata": {},
   "outputs": [
    {
     "name": "stdout",
     "output_type": "stream",
     "text": [
      "salt: 1\n"
     ]
    }
   ],
   "source": [
    "numOfSaltPixel = int(numOfPixels * 0.20)\n",
    "print(f\"salt: {numOfSaltPixel}\")"
   ]
  },
  {
   "cell_type": "code",
   "execution_count": 9,
   "metadata": {},
   "outputs": [
    {
     "name": "stdout",
     "output_type": "stream",
     "text": [
      "salt: 2\n"
     ]
    }
   ],
   "source": [
    "numOfPepperPixel = int(numOfPixels * 0.30)\n",
    "print(f\"salt: {numOfPepperPixel}\")"
   ]
  },
  {
   "cell_type": "code",
   "execution_count": 10,
   "metadata": {},
   "outputs": [
    {
     "name": "stdout",
     "output_type": "stream",
     "text": [
      "Cordinate: (2, 0)\n"
     ]
    }
   ],
   "source": [
    "xCor, yCor = np.random.randint(0, (random_image.shape[0], random_image.shape[1]))\n",
    "print(f\"Cordinate: {xCor, yCor}\")"
   ]
  },
  {
   "cell_type": "code",
   "execution_count": 11,
   "metadata": {},
   "outputs": [
    {
     "name": "stdout",
     "output_type": "stream",
     "text": [
      "(3, 3)\n"
     ]
    }
   ],
   "source": [
    "print(random_image.shape)"
   ]
  },
  {
   "cell_type": "code",
   "execution_count": 12,
   "metadata": {},
   "outputs": [],
   "source": [
    "def apply_average_filter(image, kernel_size):\n",
    "    \"\"\"Applies an average filter to an image.\"\"\"\n",
    "\n",
    "    pad_size = kernel_size // 2\n",
    "    print(f\"pad: {pad_size}\")\n",
    "    padded_image = np.pad(image, (pad_size, pad_size), mode='constant')\n",
    "    print(f\"padded imagae: {padded_image}\")\n",
    "    filtered_image = np.zeros_like(image)\n",
    "\n",
    "    for i in range(image.shape[0]):\n",
    "        for j in range(image.shape[1]):\n",
    "            kernel_region = padded_image[i:i+kernel_size, j:j+kernel_size]\n",
    "            print(f\"karnel region: {kernel_region}\")\n",
    "            average = np.mean(kernel_region)\n",
    "            print(f\"average: {average}\")\n",
    "            filtered_image[i, j] = average\n",
    "\n",
    "    return filtered_image"
   ]
  },
  {
   "cell_type": "code",
   "execution_count": 13,
   "metadata": {},
   "outputs": [
    {
     "name": "stdout",
     "output_type": "stream",
     "text": [
      "pad: 1\n",
      "padded imagae: [[ 0  0  0  0  0]\n",
      " [ 0 40 21 11  0]\n",
      " [ 0 43 10 33  0]\n",
      " [ 0 43 37  0  0]\n",
      " [ 0  0  0  0  0]]\n",
      "karnel region: [[ 0  0]\n",
      " [ 0 40]]\n",
      "average: 10.0\n",
      "karnel region: [[ 0  0]\n",
      " [40 21]]\n",
      "average: 15.25\n",
      "karnel region: [[ 0  0]\n",
      " [21 11]]\n",
      "average: 8.0\n",
      "karnel region: [[ 0 40]\n",
      " [ 0 43]]\n",
      "average: 20.75\n",
      "karnel region: [[40 21]\n",
      " [43 10]]\n",
      "average: 28.5\n",
      "karnel region: [[21 11]\n",
      " [10 33]]\n",
      "average: 18.75\n",
      "karnel region: [[ 0 43]\n",
      " [ 0 43]]\n",
      "average: 21.5\n",
      "karnel region: [[43 10]\n",
      " [43 37]]\n",
      "average: 33.25\n",
      "karnel region: [[10 33]\n",
      " [37  0]]\n",
      "average: 20.0\n",
      "filtered_image: [[10 15  8]\n",
      " [20 28 18]\n",
      " [21 33 20]]\n",
      "original image: [[40 21 11]\n",
      " [43 10 33]\n",
      " [43 37  0]]\n"
     ]
    }
   ],
   "source": [
    "filtered_image = apply_average_filter(random_image, 2)\n",
    "print(f\"filtered_image: {filtered_image}\")\n",
    "print(f\"original image: {random_image}\")"
   ]
  },
  {
   "cell_type": "code",
   "execution_count": 28,
   "metadata": {},
   "outputs": [],
   "source": [
    "image = np.array([\n",
    "    [1, 2, 3],\n",
    "    [4, 5, 6],\n",
    "    [7, 8, 9]\n",
    "], dtype=np.uint8)"
   ]
  },
  {
   "cell_type": "code",
   "execution_count": 66,
   "metadata": {},
   "outputs": [
    {
     "name": "stdout",
     "output_type": "stream",
     "text": [
      "padded image [[0 0 0 0 0]\n",
      " [0 1 2 3 0]\n",
      " [0 4 5 6 0]\n",
      " [0 7 8 9 0]\n",
      " [0 0 0 0 0]]\n",
      "window: [[0 0 0]\n",
      " [0 1 2]\n",
      " [0 4 5]]\n",
      "window: [[0 0 0]\n",
      " [1 2 3]\n",
      " [4 5 6]]\n",
      "window: [[0 0 0]\n",
      " [2 3 0]\n",
      " [5 6 0]]\n",
      "window: [[0 1 2]\n",
      " [0 4 5]\n",
      " [0 7 8]]\n",
      "window: [[1 2 3]\n",
      " [4 5 6]\n",
      " [7 8 9]]\n",
      "window: [[2 3 0]\n",
      " [5 6 0]\n",
      " [8 9 0]]\n",
      "window: [[0 4 5]\n",
      " [0 7 8]\n",
      " [0 0 0]]\n",
      "window: [[4 5 6]\n",
      " [7 8 9]\n",
      " [0 0 0]]\n",
      "window: [[5 6 0]\n",
      " [8 9 0]\n",
      " [0 0 0]]\n",
      "hermonicMean: [[2 1 3]\n",
      " [1 1 2]\n",
      " [5 4 6]]\n"
     ]
    },
    {
     "name": "stderr",
     "output_type": "stream",
     "text": [
      "C:\\Users\\Fahim Ahammed Firoz\\AppData\\Local\\Temp\\ipykernel_6708\\1882059399.py:17: RuntimeWarning: divide by zero encountered in divide\n",
      "  pixel += 0 if np.isinf(1/window[r, k]) else 1/window[r, k]\n"
     ]
    }
   ],
   "source": [
    "def hermonicMean(image, kernelSize = 2):\n",
    "    filteredImage  = np.zeros_like(image)\n",
    "    padSize = kernelSize // 2\n",
    "    paddedImage = np.pad(image, (padSize, padSize), mode='constant')\n",
    "    print(f\"padded image {paddedImage}\")\n",
    "\n",
    "    for i in range (padSize, image.shape[0] + padSize):\n",
    "        for j in range(padSize, image.shape[1] + padSize):\n",
    "            window = paddedImage[i - padSize: i+padSize+1, j - padSize: j+padSize+1]\n",
    "\n",
    "            print(f\"window: {window}\")\n",
    "\n",
    "            pixel = 0\n",
    "\n",
    "            for r in range(window.shape[0]):\n",
    "                for k in range(window.shape[1]):\n",
    "                    pixel += 0 if np.isinf(1/window[r, k]) else 1/window[r, k]\n",
    "\n",
    "            pixel = 0 if pixel == 0 else (kernelSize ** 2 / pixel)\n",
    "\n",
    "            if pixel > 255:\n",
    "                pixel = 255\n",
    "\n",
    "            filteredImage[i-padSize, j-padSize]= pixel\n",
    "    return filteredImage\n",
    "print(f\"hermonicMean: {hermonicMean(image)}\")"
   ]
  },
  {
   "cell_type": "code",
   "execution_count": 27,
   "metadata": {},
   "outputs": [
    {
     "name": "stdout",
     "output_type": "stream",
     "text": [
      "hermonicMean: [[172 108 216]\n",
      " [100  70 123]\n",
      " [117  96 187]]\n"
     ]
    }
   ],
   "source": [
    "def apply_harmonic_mean_filter2(image, mask_size):\n",
    "    filtered_image = image.copy()\n",
    "    height, width = filtered_image.shape \n",
    "    offset, number_of_pixel = mask_size // 2, mask_size * mask_size\n",
    "\n",
    "    for r in range(height):\n",
    "        for c in range(width):\n",
    "            pixel = 0\n",
    "            for x in range(-offset, offset + 1):\n",
    "                for y in range(-offset, offset + 1):\n",
    "                    if (r + x >= 0 and r + x < height and c + y >= 0 and c + y < width):\n",
    "                        pixel += float(1 / (image[r + x, c + y] + 1e-4))\n",
    "            pixel = number_of_pixel / pixel\n",
    "            filtered_image[r, c] = 255 if pixel > 255 else pixel\n",
    "\n",
    "    return np.uint8(filtered_image)\n",
    "\n",
    "harmonic_filtered = apply_harmonic_mean_filter2(image, 3)  # Adjust filter_size as needed\n",
    "print(f\"hermonicMean: {harmonic_filtered}\")"
   ]
  },
  {
   "cell_type": "code",
   "execution_count": 75,
   "metadata": {},
   "outputs": [
    {
     "name": "stdout",
     "output_type": "stream",
     "text": [
      "hermonicMean: [[ 2  5  3]\n",
      " [ 6 24 10]\n",
      " [ 5 15  6]]\n"
     ]
    }
   ],
   "source": [
    "def geoMetricMean(image, kernelSize = 2):\n",
    "    filteredImage  = np.zeros_like(image)\n",
    "    padSize = kernelSize // 2\n",
    "    paddedImage = np.pad(image, (padSize, padSize), mode='constant')\n",
    "\n",
    "    for i in range (padSize, image.shape[0] + padSize):\n",
    "        for j in range(padSize, image.shape[1] + padSize):\n",
    "            window = paddedImage[i - padSize: i+padSize+1, j - padSize: j+padSize+1]\n",
    "\n",
    "            pixel = 1\n",
    "            # Calculate the product of pixel values in the window\n",
    "            for r in range(window.shape[0]):\n",
    "                for k in range(window.shape[1]):\n",
    "                    pixel = pixel * int(window[r, k])\n",
    "\n",
    "            pixel = pixel ** (1/(kernelSize ** 2)) # Take the geometric mean by raising the product to the power of (1 / (kernelSize^2))\n",
    "\n",
    "            if pixel > 255:\n",
    "                pixel = 255\n",
    "\n",
    "            filteredImage[i-padSize, j-padSize]= pixel\n",
    "    return filteredImage\n",
    "print(f\"hermonicMean: {geoMetricMean(image)}\")"
   ]
  },
  {
   "cell_type": "code",
   "execution_count": 2,
   "metadata": {},
   "outputs": [
    {
     "ename": "AttributeError",
     "evalue": "module 'cv2' has no attribute 'hstack'",
     "output_type": "error",
     "traceback": [
      "\u001b[1;31m---------------------------------------------------------------------------\u001b[0m",
      "\u001b[1;31mAttributeError\u001b[0m                            Traceback (most recent call last)",
      "Cell \u001b[1;32mIn[2], line 24\u001b[0m\n\u001b[0;32m     22\u001b[0m original_half \u001b[38;5;241m=\u001b[39m cv2\u001b[38;5;241m.\u001b[39mresize(image, (image\u001b[38;5;241m.\u001b[39mshape[\u001b[38;5;241m1\u001b[39m] \u001b[38;5;241m/\u001b[39m\u001b[38;5;241m/\u001b[39m \u001b[38;5;241m2\u001b[39m, image\u001b[38;5;241m.\u001b[39mshape[\u001b[38;5;241m0\u001b[39m] \u001b[38;5;241m/\u001b[39m\u001b[38;5;241m/\u001b[39m \u001b[38;5;241m2\u001b[39m))\n\u001b[0;32m     23\u001b[0m modified_half \u001b[38;5;241m=\u001b[39m cv2\u001b[38;5;241m.\u001b[39mresize(binary_image \u001b[38;5;28;01mif\u001b[39;00m new_bpp \u001b[38;5;241m==\u001b[39m \u001b[38;5;241m1\u001b[39m \u001b[38;5;28;01melse\u001b[39;00m image, (image\u001b[38;5;241m.\u001b[39mshape[\u001b[38;5;241m1\u001b[39m] \u001b[38;5;241m/\u001b[39m\u001b[38;5;241m/\u001b[39m \u001b[38;5;241m2\u001b[39m, image\u001b[38;5;241m.\u001b[39mshape[\u001b[38;5;241m0\u001b[39m] \u001b[38;5;241m/\u001b[39m\u001b[38;5;241m/\u001b[39m \u001b[38;5;241m2\u001b[39m))\n\u001b[1;32m---> 24\u001b[0m combined_image \u001b[38;5;241m=\u001b[39m \u001b[43mcv2\u001b[49m\u001b[38;5;241;43m.\u001b[39;49m\u001b[43mhstack\u001b[49m([original_half, modified_half])\n\u001b[0;32m     26\u001b[0m \u001b[38;5;66;03m# Show the combined image\u001b[39;00m\n\u001b[0;32m     27\u001b[0m cv2\u001b[38;5;241m.\u001b[39mimshow(\u001b[38;5;124m\"\u001b[39m\u001b[38;5;124mOriginal vs. Modified\u001b[39m\u001b[38;5;124m\"\u001b[39m, combined_image)\n",
      "\u001b[1;31mAttributeError\u001b[0m: module 'cv2' has no attribute 'hstack'"
     ]
    }
   ],
   "source": [
    "import cv2\n",
    "\n",
    "# Load the image\n",
    "image = cv2.imread(\"./photos/Rose-1024x1024.tif\")\n",
    "\n",
    "# Get the current number of bits per pixel\n",
    "bpp = image.dtype.itemsize * 8\n",
    "\n",
    "# Calculate the new number of bits per pixel\n",
    "new_bpp = bpp - 1\n",
    "\n",
    "# Check if the new bpp is binary (1 bit)\n",
    "if new_bpp == 1:\n",
    "    # Convert the image to binary using thresholding\n",
    "    threshold, binary_image = cv2.threshold(image, 127, 255, cv2.THRESH_BINARY)\n",
    "else:\n",
    "    # Reduce the intensity levels by one bit\n",
    "    mask = 2 ** (bpp - new_bpp) - 1\n",
    "    image = cv2.bitwise_and(image, mask)\n",
    "\n",
    "# Display the original and modified images side-by-side\n",
    "original_half = cv2.resize(image, (image.shape[1] // 2, image.shape[0] // 2))\n",
    "modified_half = cv2.resize(binary_image if new_bpp == 1 else image, (image.shape[1] // 2, image.shape[0] // 2))\n",
    "combined_image = cv2.hstack([original_half, modified_half])\n",
    "\n",
    "# Show the combined image\n",
    "cv2.imshow(\"Original vs. Modified\", combined_image)\n",
    "cv2.waitKey(0)\n",
    "cv2.destroyAllWindows()\n"
   ]
  }
 ],
 "metadata": {
  "kernelspec": {
   "display_name": "Python 3",
   "language": "python",
   "name": "python3"
  },
  "language_info": {
   "codemirror_mode": {
    "name": "ipython",
    "version": 3
   },
   "file_extension": ".py",
   "mimetype": "text/x-python",
   "name": "python",
   "nbconvert_exporter": "python",
   "pygments_lexer": "ipython3",
   "version": "3.12.1"
  }
 },
 "nbformat": 4,
 "nbformat_minor": 2
}

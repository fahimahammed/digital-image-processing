{
 "cells": [
  {
   "cell_type": "code",
   "execution_count": 66,
   "metadata": {},
   "outputs": [],
   "source": [
    "import numpy as np\n",
    "import matplotlib.pyplot as plt "
   ]
  },
  {
   "cell_type": "code",
   "execution_count": 67,
   "metadata": {},
   "outputs": [
    {
     "name": "stdout",
     "output_type": "stream",
     "text": [
      "[[ 2 16 23]\n",
      " [ 0 29 20]\n",
      " [ 3 30 13]]\n"
     ]
    },
    {
     "data": {
      "image/png": "[encoded data removed]",
      "text/plain": [
       "<Figure size 640x480 with 1 Axes>"
      ]
     },
     "metadata": {},
     "output_type": "display_data"
    }
   ],
   "source": [
    "# Dimensions of the image\n",
    "image_height = 3\n",
    "image_width = 3\n",
    "\n",
    "# Generate a random grayscale image\n",
    "random_image = np.random.randint(0, 50, size=(image_height, image_width), dtype=np.uint8)\n",
    "print(random_image)\n",
    "\n",
    "# Display the random image using matplotlib\n",
    "plt.imshow(random_image, cmap='gray', vmin=0, vmax=255)\n",
    "plt.title('Random Grayscale Image')\n",
    "plt.show()"
   ]
  },
  {
   "cell_type": "code",
   "execution_count": 68,
   "metadata": {},
   "outputs": [
    {
     "name": "stdout",
     "output_type": "stream",
     "text": [
      "num of pixels: 9\n"
     ]
    }
   ],
   "source": [
    "numOfPixels = random_image.size\n",
    "print(f\"num of pixels: {numOfPixels}\")"
   ]
  },
  {
   "cell_type": "code",
   "execution_count": 69,
   "metadata": {},
   "outputs": [
    {
     "name": "stdout",
     "output_type": "stream",
     "text": [
      "noise amount: 4\n"
     ]
    }
   ],
   "source": [
    "noiseAmount = int(numOfPixels * 0.5)\n",
    "print(f\"noise amount: {noiseAmount}\")"
   ]
  },
  {
   "cell_type": "code",
   "execution_count": 70,
   "metadata": {},
   "outputs": [
    {
     "name": "stdout",
     "output_type": "stream",
     "text": [
      "salt: 1\n"
     ]
    }
   ],
   "source": [
    "numOfSaltPixel = int(numOfPixels * 0.20)\n",
    "print(f\"salt: {numOfSaltPixel}\")"
   ]
  },
  {
   "cell_type": "code",
   "execution_count": 71,
   "metadata": {},
   "outputs": [
    {
     "name": "stdout",
     "output_type": "stream",
     "text": [
      "salt: 2\n"
     ]
    }
   ],
   "source": [
    "numOfPepperPixel = int(numOfPixels * 0.30)\n",
    "print(f\"salt: {numOfPepperPixel}\")"
   ]
  },
  {
   "cell_type": "code",
   "execution_count": 72,
   "metadata": {},
   "outputs": [
    {
     "name": "stdout",
     "output_type": "stream",
     "text": [
      "Cordinate: (0, 2)\n"
     ]
    }
   ],
   "source": [
    "xCor, yCor = np.random.randint(0, (random_image.shape[0], random_image.shape[1]))\n",
    "print(f\"Cordinate: {xCor, yCor}\")"
   ]
  },
  {
   "cell_type": "code",
   "execution_count": 73,
   "metadata": {},
   "outputs": [
    {
     "name": "stdout",
     "output_type": "stream",
     "text": [
      "(3, 3)\n"
     ]
    }
   ],
   "source": [
    "print(random_image.shape)"
   ]
  },
  {
   "cell_type": "code",
   "execution_count": 74,
   "metadata": {},
   "outputs": [],
   "source": [
    "def apply_average_filter(image, kernel_size):\n",
    "    \"\"\"Applies an average filter to an image.\"\"\"\n",
    "\n",
    "    pad_size = kernel_size // 2\n",
    "    print(f\"pad: {pad_size}\")\n",
    "    padded_image = np.pad(image, (pad_size, pad_size), mode='constant')\n",
    "    print(f\"padded imagae: {padded_image}\")\n",
    "    filtered_image = np.zeros_like(image)\n",
    "\n",
    "    for i in range(image.shape[0]):\n",
    "        for j in range(image.shape[1]):\n",
    "            kernel_region = padded_image[i:i+kernel_size, j:j+kernel_size]\n",
    "            print(f\"karnel region: {kernel_region}\")\n",
    "            average = np.mean(kernel_region)\n",
    "            print(f\"average: {average}\")\n",
    "            filtered_image[i, j] = average\n",
    "\n",
    "    return filtered_image"
   ]
  },
  {
   "cell_type": "code",
   "execution_count": 81,
   "metadata": {},
   "outputs": [
    {
     "name": "stdout",
     "output_type": "stream",
     "text": [
      "pad: 1\n",
      "padded imagae: [[ 0  0  0  0  0]\n",
      " [ 0  2 16 23  0]\n",
      " [ 0  0 29 20  0]\n",
      " [ 0  3 30 13  0]\n",
      " [ 0  0  0  0  0]]\n",
      "karnel region: [[0 0]\n",
      " [0 2]]\n",
      "average: 0.5\n",
      "karnel region: [[ 0  0]\n",
      " [ 2 16]]\n",
      "average: 4.5\n",
      "karnel region: [[ 0  0]\n",
      " [16 23]]\n",
      "average: 9.75\n",
      "karnel region: [[0 2]\n",
      " [0 0]]\n",
      "average: 0.5\n",
      "karnel region: [[ 2 16]\n",
      " [ 0 29]]\n",
      "average: 11.75\n",
      "karnel region: [[16 23]\n",
      " [29 20]]\n",
      "average: 22.0\n",
      "karnel region: [[0 0]\n",
      " [0 3]]\n",
      "average: 0.75\n",
      "karnel region: [[ 0 29]\n",
      " [ 3 30]]\n",
      "average: 15.5\n",
      "karnel region: [[29 20]\n",
      " [30 13]]\n",
      "average: 23.0\n",
      "filtered_image: [[ 0  4  9]\n",
      " [ 0 11 22]\n",
      " [ 0 15 23]]\n",
      "original image: [[ 2 16 23]\n",
      " [ 0 29 20]\n",
      " [ 3 30 13]]\n"
     ]
    }
   ],
   "source": [
    "filtered_image = apply_average_filter(random_image, 2)\n",
    "print(f\"filtered_image: {filtered_image}\")\n",
    "print(f\"original image: {random_image}\")"
   ]
  },
  {
   "cell_type": "code",
   "execution_count": null,
   "metadata": {},
   "outputs": [],
   "source": []
  }
 ],
 "metadata": {
  "kernelspec": {
   "display_name": "Python 3",
   "language": "python",
   "name": "python3"
  },
  "language_info": {
   "codemirror_mode": {
    "name": "ipython",
    "version": 3
   },
   "file_extension": ".py",
   "mimetype": "text/x-python",
   "name": "python",
   "nbconvert_exporter": "python",
   "pygments_lexer": "ipython3",
   "version": "3.12.1"
  }
 },
 "nbformat": 4,
 "nbformat_minor": 2
}

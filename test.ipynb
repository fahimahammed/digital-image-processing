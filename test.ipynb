{
 "cells": [
  {
   "cell_type": "code",
   "execution_count": 6,
   "metadata": {},
   "outputs": [],
   "source": [
    "import numpy as np\n",
    "import matplotlib.pyplot as plt "
   ]
  },
  {
   "cell_type": "code",
   "execution_count": 7,
   "metadata": {},
   "outputs": [
    {
     "name": "stdout",
     "output_type": "stream",
     "text": [
      "[[ 69   6 184  34]\n",
      " [ 14 156 216 167]\n",
      " [ 40  85 215 199]\n",
      " [ 30 218 198 152]]\n"
     ]
    },
    {
     "data": {
      "image/png": "[encoded data removed]",
      "text/plain": [
       "<Figure size 640x480 with 1 Axes>"
      ]
     },
     "metadata": {},
     "output_type": "display_data"
    }
   ],
   "source": [
    "# Dimensions of the image\n",
    "image_height = 4\n",
    "image_width = 4\n",
    "\n",
    "# Generate a random grayscale image\n",
    "random_image = np.random.randint(0, 256, size=(image_height, image_width), dtype=np.uint8)\n",
    "print(random_image)\n",
    "\n",
    "# Display the random image using matplotlib\n",
    "plt.imshow(random_image, cmap='gray', vmin=0, vmax=255)\n",
    "plt.title('Random Grayscale Image')\n",
    "plt.show()"
   ]
  },
  {
   "cell_type": "code",
   "execution_count": 8,
   "metadata": {},
   "outputs": [
    {
     "name": "stdout",
     "output_type": "stream",
     "text": [
      "num of pixels: 16\n"
     ]
    }
   ],
   "source": [
    "numOfPixels = random_image.size\n",
    "print(f\"num of pixels: {numOfPixels}\")"
   ]
  },
  {
   "cell_type": "code",
   "execution_count": 12,
   "metadata": {},
   "outputs": [
    {
     "name": "stdout",
     "output_type": "stream",
     "text": [
      "noise amount: 8\n"
     ]
    }
   ],
   "source": [
    "noiseAmount = int(numOfPixels * 0.5)\n",
    "print(f\"noise amount: {noiseAmount}\")"
   ]
  },
  {
   "cell_type": "code",
   "execution_count": 13,
   "metadata": {},
   "outputs": [
    {
     "name": "stdout",
     "output_type": "stream",
     "text": [
      "salt: 3\n"
     ]
    }
   ],
   "source": [
    "numOfSaltPixel = int(numOfPixels * 0.20)\n",
    "print(f\"salt: {numOfSaltPixel}\")"
   ]
  },
  {
   "cell_type": "code",
   "execution_count": 14,
   "metadata": {},
   "outputs": [
    {
     "name": "stdout",
     "output_type": "stream",
     "text": [
      "salt: 4\n"
     ]
    }
   ],
   "source": [
    "numOfPepperPixel = int(numOfPixels * 0.30)\n",
    "print(f\"salt: {numOfPepperPixel}\")"
   ]
  },
  {
   "cell_type": "code",
   "execution_count": 20,
   "metadata": {},
   "outputs": [
    {
     "name": "stdout",
     "output_type": "stream",
     "text": [
      "Cordinate: (0, 1)\n"
     ]
    }
   ],
   "source": [
    "xCor, yCor = np.random.randint(0, (random_image.shape[0], random_image.shape[1]))\n",
    "print(f\"Cordinate: {xCor, yCor}\")"
   ]
  },
  {
   "cell_type": "code",
   "execution_count": 21,
   "metadata": {},
   "outputs": [
    {
     "name": "stdout",
     "output_type": "stream",
     "text": [
      "(4, 4)\n"
     ]
    }
   ],
   "source": [
    "print(random_image.shape)"
   ]
  },
  {
   "cell_type": "code",
   "execution_count": null,
   "metadata": {},
   "outputs": [],
   "source": []
  }
 ],
 "metadata": {
  "kernelspec": {
   "display_name": "Python 3",
   "language": "python",
   "name": "python3"
  },
  "language_info": {
   "codemirror_mode": {
    "name": "ipython",
    "version": 3
   },
   "file_extension": ".py",
   "mimetype": "text/x-python",
   "name": "python",
   "nbconvert_exporter": "python",
   "pygments_lexer": "ipython3",
   "version": "3.12.1"
  }
 },
 "nbformat": 4,
 "nbformat_minor": 2
}
